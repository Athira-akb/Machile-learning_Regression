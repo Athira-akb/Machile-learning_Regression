{
 "cells": [
  {
   "cell_type": "markdown",
   "metadata": {},
   "source": [
    "# Importing the libraries"
   ]
  },
  {
   "cell_type": "code",
   "execution_count": 1,
   "metadata": {},
   "outputs": [],
   "source": [
    "import pandas as pd\n",
    "import numpy as np\n",
    "import matplotlib.pyplot as plt"
   ]
  },
  {
   "cell_type": "markdown",
   "metadata": {},
   "source": [
    "# Importing the dataset"
   ]
  },
  {
   "cell_type": "code",
   "execution_count": 2,
   "metadata": {
    "scrolled": true
   },
   "outputs": [
    {
     "name": "stdout",
     "output_type": "stream",
     "text": [
      "The dataset is :\n",
      "     YearsExperience    Salary\n",
      "0               1.1   39343.0\n",
      "1               1.3   46205.0\n",
      "2               1.5   37731.0\n",
      "3               2.0   43525.0\n",
      "4               2.2   39891.0\n",
      "5               2.9   56642.0\n",
      "6               3.0   60150.0\n",
      "7               3.2   54445.0\n",
      "8               3.2   64445.0\n",
      "9               3.7   57189.0\n",
      "10              3.9   63218.0\n",
      "11              4.0   55794.0\n",
      "12              4.0   56957.0\n",
      "13              4.1   57081.0\n",
      "14              4.5   61111.0\n",
      "15              4.9   67938.0\n",
      "16              5.1   66029.0\n",
      "17              5.3   83088.0\n",
      "18              5.9   81363.0\n",
      "19              6.0   93940.0\n",
      "20              6.8   91738.0\n",
      "21              7.1   98273.0\n",
      "22              7.9  101302.0\n",
      "23              8.2  113812.0\n",
      "24              8.7  109431.0\n",
      "25              9.0  105582.0\n",
      "26              9.5  116969.0\n",
      "27              9.6  112635.0\n",
      "28             10.3  122391.0\n",
      "29             10.5  121872.0\n"
     ]
    }
   ],
   "source": [
    "dataset = pd.read_csv(\"Salary_Data.csv\")\n",
    "print('The dataset is :\\n',dataset)\n",
    "X = dataset.iloc[:,:-1]\n",
    "y = dataset.iloc[:,-1]"
   ]
  },
  {
   "cell_type": "code",
   "execution_count": 3,
   "metadata": {},
   "outputs": [
    {
     "name": "stdout",
     "output_type": "stream",
     "text": [
      "The independent variable X containing the years of experiance :\n",
      "     YearsExperience\n",
      "0               1.1\n",
      "1               1.3\n",
      "2               1.5\n",
      "3               2.0\n",
      "4               2.2\n",
      "5               2.9\n",
      "6               3.0\n",
      "7               3.2\n",
      "8               3.2\n",
      "9               3.7\n",
      "10              3.9\n",
      "11              4.0\n",
      "12              4.0\n",
      "13              4.1\n",
      "14              4.5\n",
      "15              4.9\n",
      "16              5.1\n",
      "17              5.3\n",
      "18              5.9\n",
      "19              6.0\n",
      "20              6.8\n",
      "21              7.1\n",
      "22              7.9\n",
      "23              8.2\n",
      "24              8.7\n",
      "25              9.0\n",
      "26              9.5\n",
      "27              9.6\n",
      "28             10.3\n",
      "29             10.5\n",
      "\n",
      "The dependent variable y containing the salary :\n",
      " 0      39343.0\n",
      "1      46205.0\n",
      "2      37731.0\n",
      "3      43525.0\n",
      "4      39891.0\n",
      "5      56642.0\n",
      "6      60150.0\n",
      "7      54445.0\n",
      "8      64445.0\n",
      "9      57189.0\n",
      "10     63218.0\n",
      "11     55794.0\n",
      "12     56957.0\n",
      "13     57081.0\n",
      "14     61111.0\n",
      "15     67938.0\n",
      "16     66029.0\n",
      "17     83088.0\n",
      "18     81363.0\n",
      "19     93940.0\n",
      "20     91738.0\n",
      "21     98273.0\n",
      "22    101302.0\n",
      "23    113812.0\n",
      "24    109431.0\n",
      "25    105582.0\n",
      "26    116969.0\n",
      "27    112635.0\n",
      "28    122391.0\n",
      "29    121872.0\n",
      "Name: Salary, dtype: float64\n"
     ]
    }
   ],
   "source": [
    "print('The independent variable X containing the years of experiance :\\n',X)\n",
    "print('\\nThe dependent variable y containing the salary :\\n',y)"
   ]
  },
  {
   "cell_type": "markdown",
   "metadata": {},
   "source": [
    "# Splitting the dataset into training set and test set"
   ]
  },
  {
   "cell_type": "code",
   "execution_count": 4,
   "metadata": {},
   "outputs": [
    {
     "name": "stdout",
     "output_type": "stream",
     "text": [
      "2      37731.0\n",
      "28    122391.0\n",
      "13     57081.0\n",
      "10     63218.0\n",
      "26    116969.0\n",
      "24    109431.0\n",
      "Name: Salary, dtype: float64\n"
     ]
    }
   ],
   "source": [
    "from sklearn.model_selection import train_test_split\n",
    "X_train, X_test, y_train, y_test = train_test_split(X,y,test_size=0.2,random_state=0)\n",
    "print(y_test)"
   ]
  },
  {
   "cell_type": "markdown",
   "metadata": {},
   "source": [
    "# Training the Simple Linear Regression model on the training set"
   ]
  },
  {
   "cell_type": "code",
   "execution_count": 5,
   "metadata": {},
   "outputs": [
    {
     "data": {
      "text/plain": [
       "LinearRegression(copy_X=True, fit_intercept=True, n_jobs=None, normalize=False)"
      ]
     },
     "execution_count": 5,
     "metadata": {},
     "output_type": "execute_result"
    }
   ],
   "source": [
    "from sklearn.linear_model import LinearRegression\n",
    "regressor = LinearRegression()\n",
    "regressor.fit(X_train,y_train)"
   ]
  },
  {
   "cell_type": "markdown",
   "metadata": {},
   "source": [
    "# Predicting the test results"
   ]
  },
  {
   "cell_type": "code",
   "execution_count": 6,
   "metadata": {},
   "outputs": [
    {
     "name": "stdout",
     "output_type": "stream",
     "text": [
      "[ 40748.96184072 122699.62295594  64961.65717022  63099.14214487\n",
      " 115249.56285456 107799.50275317]\n"
     ]
    }
   ],
   "source": [
    "y_pred = regressor.predict(X_test)\n",
    "print(y_pred)"
   ]
  },
  {
   "cell_type": "markdown",
   "metadata": {},
   "source": [
    "# Predicting the training set results"
   ]
  },
  {
   "cell_type": "code",
   "execution_count": 7,
   "metadata": {},
   "outputs": [
    {
     "data": {
      "image/png": "[encoded data removed]",
      "text/plain": [
       "<Figure size 432x288 with 1 Axes>"
      ]
     },
     "metadata": {
      "needs_background": "light"
     },
     "output_type": "display_data"
    }
   ],
   "source": [
    "plt.scatter(X_train,y_train,color='red')\n",
    "plt.plot(X_train,regressor.predict(X_train),color='blue')\n",
    "plt.title('Years of experiance vs Salary(Training set)')\n",
    "plt.xlabel('Years of experiance')\n",
    "plt.ylabel('Salary')\n",
    "plt.show()"
   ]
  },
  {
   "cell_type": "markdown",
   "metadata": {},
   "source": [
    "# Visualising the test set results"
   ]
  },
  {
   "cell_type": "code",
   "execution_count": 8,
   "metadata": {},
   "outputs": [
    {
     "data": {
      "image/png": "[encoded data removed]",
      "text/plain": [
       "<Figure size 432x288 with 1 Axes>"
      ]
     },
     "metadata": {
      "needs_background": "light"
     },
     "output_type": "display_data"
    }
   ],
   "source": [
    "plt.scatter(X_test,y_test,color='red')\n",
    "plt.plot(X_train,regressor.predict(X_train),color='blue')\n",
    "plt.title('Years of experiance vs Salary(Test set)')\n",
    "plt.xlabel('Years of experiance')\n",
    "plt.ylabel('Salary')\n",
    "plt.show()"
   ]
  },
  {
   "cell_type": "markdown",
   "metadata": {},
   "source": [
    "# Making a single prediction - salary for 12 year experience"
   ]
  },
  {
   "cell_type": "code",
   "execution_count": 9,
   "metadata": {},
   "outputs": [
    {
     "name": "stdout",
     "output_type": "stream",
     "text": [
      "[138531.00067138]\n"
     ]
    }
   ],
   "source": [
    "print(regressor.predict([[12]]))"
   ]
  },
  {
   "cell_type": "markdown",
   "metadata": {},
   "source": [
    "# Getting the final linear regression equation with the values of coefficient"
   ]
  },
  {
   "cell_type": "code",
   "execution_count": 10,
   "metadata": {},
   "outputs": [
    {
     "name": "stdout",
     "output_type": "stream",
     "text": [
      "[9312.57512673]\n",
      "26780.099150628186\n",
      "Linear regression equation(y=b0 + b1*X) : y =  [9312.57512673] +  26780.099150628186 * X\n"
     ]
    }
   ],
   "source": [
    "print(regressor.coef_)\n",
    "print(regressor.intercept_)\n",
    "print('Linear regression equation(y=b0 + b1*X) : y = ',regressor.coef_,'+ ',regressor.intercept_,'* X')"
   ]
  },
  {
   "cell_type": "code",
   "execution_count": null,
   "metadata": {},
   "outputs": [],
   "source": []
  }
 ],
 "metadata": {
  "kernelspec": {
   "display_name": "Python 3",
   "language": "python",
   "name": "python3"
  },
  "language_info": {
   "codemirror_mode": {
    "name": "ipython",
    "version": 3
   },
   "file_extension": ".py",
   "mimetype": "text/x-python",
   "name": "python",
   "nbconvert_exporter": "python",
   "pygments_lexer": "ipython3",
   "version": "3.7.3"
  }
 },
 "nbformat": 4,
 "nbformat_minor": 4
}
